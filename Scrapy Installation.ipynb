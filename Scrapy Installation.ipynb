{
 "cells": [
  {
   "cell_type": "markdown",
   "id": "05b2cd75",
   "metadata": {},
   "source": [
    "# Scrapy\n",
    "### This tutorial will walk you through these tasks:\n",
    "\n",
    "1.Creating a new Scrapy project\n",
    "\n",
    "2.Writing a spider to crawl a site and extract data\n",
    "\n",
    "3.Exporting the scraped data using the command line\n",
    "\n",
    "4.Changing spider to recursively follow links\n",
    "\n",
    "5.Using spider arguments"
   ]
  },
  {
   "cell_type": "code",
   "execution_count": 1,
   "id": "20c43dd8",
   "metadata": {},
   "outputs": [
    {
     "name": "stdout",
     "output_type": "stream",
     "text": [
      "New Scrapy project 'firstproject', using template directory 'c:\\users\\asus\\appdata\\local\\programs\\python\\python37\\lib\\site-packages\\scrapy\\templates\\project', created in:\n",
      "    C:\\Users\\Asus\\Desktop\\Data Science Course\\Data Acquisition\\Data Acquistion-Using Scrapy\\firstproject\n",
      "\n",
      "You can start your first spider with:\n",
      "    cd firstproject\n",
      "    scrapy genspider example example.com\n"
     ]
    }
   ],
   "source": [
    "#1.Creating project\n",
    "!scrapy startproject firstproject"
   ]
  },
  {
   "cell_type": "markdown",
   "id": "072735d3",
   "metadata": {},
   "source": [
    "### 2. Writing the Spiders"
   ]
  },
  {
   "cell_type": "code",
   "execution_count": null,
   "id": "4910ed86",
   "metadata": {},
   "outputs": [],
   "source": []
  }
 ],
 "metadata": {
  "kernelspec": {
   "display_name": "Python 3 (ipykernel)",
   "language": "python",
   "name": "python3"
  },
  "language_info": {
   "codemirror_mode": {
    "name": "ipython",
    "version": 3
   },
   "file_extension": ".py",
   "mimetype": "text/x-python",
   "name": "python",
   "nbconvert_exporter": "python",
   "pygments_lexer": "ipython3",
   "version": "3.7.9"
  }
 },
 "nbformat": 4,
 "nbformat_minor": 5
}
